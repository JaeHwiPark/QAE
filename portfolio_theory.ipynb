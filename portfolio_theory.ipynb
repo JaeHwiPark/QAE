{
  "nbformat": 4,
  "nbformat_minor": 5,
  "metadata": {
    "kernelspec": {
      "name": "python3",
      "display_name": "Python 3.8.5 64-bit ('base': conda)"
    },
    "language_info": {
      "codemirror_mode": {
        "name": "ipython",
        "version": 3
      },
      "file_extension": ".py",
      "mimetype": "text/x-python",
      "name": "python",
      "nbconvert_exporter": "python",
      "pygments_lexer": "ipython3",
      "version": "3.8.5"
    },
    "toc": {
      "base_numbering": 1,
      "nav_menu": {},
      "number_sections": true,
      "sideBar": true,
      "skip_h1_title": false,
      "title_cell": "Table of Contents",
      "title_sidebar": "Contents",
      "toc_cell": false,
      "toc_position": {},
      "toc_section_display": true,
      "toc_window_display": false
    },
    "varInspector": {
      "cols": {
        "lenName": 16,
        "lenType": 16,
        "lenVar": 40
      },
      "kernels_config": {
        "python": {
          "delete_cmd_postfix": "",
          "delete_cmd_prefix": "del ",
          "library": "var_list.py",
          "varRefreshCmd": "print(var_dic_list())"
        },
        "r": {
          "delete_cmd_postfix": ") ",
          "delete_cmd_prefix": "rm(",
          "library": "var_list.r",
          "varRefreshCmd": "cat(var_dic_list()) "
        }
      },
      "types_to_exclude": [
        "module",
        "function",
        "builtin_function_or_method",
        "instance",
        "_Feature"
      ],
      "window_display": false
    },
    "interpreter": {
      "hash": "19b8a99e20781428e9ec1ba59c8df2a455d80408f31d57e810ad15e80cd0aa7f"
    },
    "colab": {
      "name": "portfolio theory.ipynb",
      "provenance": []
    }
  },
  "cells": [
    {
      "cell_type": "markdown",
      "metadata": {
        "id": "gnbL1-3iu_ac"
      },
      "source": [
        "평균분산분석 1차"
      ],
      "id": "gnbL1-3iu_ac"
    },
    {
      "cell_type": "code",
      "metadata": {
        "ExecuteTime": {
          "end_time": "2021-06-13T13:40:52.813025Z",
          "start_time": "2021-06-13T13:40:52.796056Z"
        },
        "id": "TaEKsL0Au_ac"
      },
      "source": [
        "# 메모리에 있는 모든 변수를 지우고 새롭게 시작함\n",
        "all = [var for var in globals() if var[0] != \"_\"]\n",
        "for var in all:\n",
        "    del globals()[var]"
      ],
      "id": "TaEKsL0Au_ac",
      "execution_count": null,
      "outputs": []
    },
    {
      "cell_type": "code",
      "metadata": {
        "id": "NZiLQNJ3u_ac"
      },
      "source": [
        "# 사용되는 패키지을 읽어들임 \n",
        "import numpy as np\n",
        "import pandas as pd\n",
        "import random\n",
        "import calendar\n",
        "import matplotlib.pyplot as plt\n",
        "from scipy.stats import mstats, skew, kurtosis\n",
        "import statsmodels.api as sm\n",
        "import seaborn as sns\n",
        "from statsmodels.graphics.gofplots import qqline\n",
        "import math\n",
        "import warnings\n",
        "warnings.filterwarnings('ignore')"
      ],
      "id": "NZiLQNJ3u_ac",
      "execution_count": null,
      "outputs": []
    },
    {
      "cell_type": "code",
      "metadata": {
        "ExecuteTime": {
          "end_time": "2021-06-13T14:11:54.824774Z",
          "start_time": "2021-06-13T14:11:54.785188Z"
        },
        "id": "pFZnzHpxu_ac"
      },
      "source": [
        "# 시장수익률과 무위험자산 수익률을 읽음\n",
        "sdata = pd.read_csv(\"/gdrive//MyDrive/quantfinance/data.csv\", index_col=0)\n",
        "\n",
        "sdata.index = pd.to_datetime(sdata.index)\n",
        "n = sdata.shape[0]\n",
        "MR = sdata['RKOSPI']\n",
        "RF = sdata['RF_M']"
      ],
      "id": "pFZnzHpxu_ac",
      "execution_count": null,
      "outputs": []
    },
    {
      "cell_type": "code",
      "metadata": {
        "id": "7rpBHcqGu_ac"
      },
      "source": [
        "# 개별자산 데이터, 전체 데이터 읽음\n",
        "df = pd.read_excel(\"/gdrive//MyDrive/quantfinance/QuantDataR.xlsx\", None, index_col=0 )\n",
        "df_names = list(df.keys())"
      ],
      "id": "7rpBHcqGu_ac",
      "execution_count": null,
      "outputs": []
    },
    {
      "cell_type": "code",
      "metadata": {
        "id": "UjYurOZHk1cE"
      },
      "source": [
        "#df1 = df 로딩시간을 대비하여 예비 파일 생성\n",
        "df = df1"
      ],
      "id": "UjYurOZHk1cE",
      "execution_count": null,
      "outputs": []
    },
    {
      "cell_type": "code",
      "metadata": {
        "id": "YqG6O4RLu_ad"
      },
      "source": [
        "# 개별주식의 총수익률 (RI) 데이터 읽음\n",
        "RID = df['RI']\n",
        "\n",
        "# Dates\n",
        "date = RID.index\n",
        "\n",
        "#firm names using 'D_Price'  이름 이외에는 다른 군더기가 없음\n",
        "D_Price = df['D_P']\n",
        "firm_names =  D_Price.columns"
      ],
      "id": "YqG6O4RLu_ad",
      "execution_count": null,
      "outputs": []
    },
    {
      "cell_type": "code",
      "metadata": {
        "id": "-9Boe0_su_ad",
        "colab": {
          "base_uri": "https://localhost:8080/"
        },
        "outputId": "349b3e5a-db60-40b6-aa4c-57aa04a6ce48"
      },
      "source": [
        "############################################################################################\n",
        "# Calculation of log-returns\n",
        "\n",
        "R = [] \n",
        "print(\"Null stocks: \", end ='')\n",
        "for i in range(0,RID.shape[1]):\n",
        "    \n",
        "    if RID.shape[0] - RID.iloc[:, i ].isnull().sum() < 2:   # 전체 데이터에서 NA개수를 뺀 나머지가 2 보다 작으면 계산하지 않음\n",
        "        \n",
        "        print (i, \", \", end='')\n",
        "        R_temp = pd.Series([np.nan]*(RID.shape[0]-1))    #전체를 NA로 대체\n",
        "        R.append(R_temp)\n",
        "        continue\n",
        "    \n",
        "    lag0 = (np.log(RID.iloc[1:, i ])).reset_index(drop =True)\n",
        "    lag1 = (np.log(RID.iloc[0:-1, i ])).reset_index(drop =True)\n",
        " \n",
        "    R_temp =  (lag0-lag1)*100\n",
        "    R.append(R_temp)\n",
        "    \n",
        "R = pd.concat(R,axis= 1)   # R이라는 matrix는 각 개별주식의 수익률 벡터를 순차적으로 오른편으로 덧붙여 작성. axis=0 이면 아래쪽으로 붙임\n",
        "R.index = date[1:]         # 첫달 제외\n",
        "R.columns = firm_names     # 회사이름\n",
        "R = R.dropna(axis=1)   # 입력이 없는 열전체가 삭제, 전체기간 수익률 있는 기업만 남김"
      ],
      "id": "-9Boe0_su_ad",
      "execution_count": null,
      "outputs": [
        {
          "output_type": "stream",
          "name": "stdout",
          "text": [
            "Null stocks: 25 , 747 , "
          ]
        }
      ]
    },
    {
      "cell_type": "code",
      "metadata": {
        "id": "vLB3XC0hu_ad",
        "colab": {
          "base_uri": "https://localhost:8080/",
          "height": 468
        },
        "outputId": "827a1d54-991f-4e74-be3e-7e0721d7db71"
      },
      "source": [
        "# Choose ten firm for testing 10개 기업 추출\n",
        "rnfirms=[0]\n",
        "for i in range(1,11):\n",
        "  rnfirm = random.randint(1,len(R.columns))   #Randomly Selecting a firm\n",
        "  rnfirms.append(rnfirm)\n",
        "\n",
        "print(rnfirms) #Print the selected firms\n",
        "R.iloc[:,rnfirms]"
      ],
      "id": "vLB3XC0hu_ad",
      "execution_count": null,
      "outputs": [
        {
          "output_type": "stream",
          "name": "stdout",
          "text": [
            "[0, 378, 155, 429, 50, 192, 404, 561, 494, 47, 15]\n"
          ]
        },
        {
          "output_type": "execute_result",
          "data": {
            "text/html": [
              "<div>\n",
              "<style scoped>\n",
              "    .dataframe tbody tr th:only-of-type {\n",
              "        vertical-align: middle;\n",
              "    }\n",
              "\n",
              "    .dataframe tbody tr th {\n",
              "        vertical-align: top;\n",
              "    }\n",
              "\n",
              "    .dataframe thead th {\n",
              "        text-align: right;\n",
              "    }\n",
              "</style>\n",
              "<table border=\"1\" class=\"dataframe\">\n",
              "  <thead>\n",
              "    <tr style=\"text-align: right;\">\n",
              "      <th></th>\n",
              "      <th>ABLE C&amp;C</th>\n",
              "      <th>NI STEEL</th>\n",
              "      <th>GWANGJU SHINSEGAE</th>\n",
              "      <th>SAMSUNG CLIMATE CONTROL</th>\n",
              "      <th>CJ CGV</th>\n",
              "      <th>HANWHA</th>\n",
              "      <th>PYUNG HWA INDUSTRIAL</th>\n",
              "      <th>YUYANG D&amp;U SUSP - SUSP.20/03/20</th>\n",
              "      <th>SK SECURITIES</th>\n",
              "      <th>CHUNIL EXPRESS</th>\n",
              "      <th>BOHAE BREWERY</th>\n",
              "    </tr>\n",
              "    <tr>\n",
              "      <th>Name</th>\n",
              "      <th></th>\n",
              "      <th></th>\n",
              "      <th></th>\n",
              "      <th></th>\n",
              "      <th></th>\n",
              "      <th></th>\n",
              "      <th></th>\n",
              "      <th></th>\n",
              "      <th></th>\n",
              "      <th></th>\n",
              "      <th></th>\n",
              "    </tr>\n",
              "  </thead>\n",
              "  <tbody>\n",
              "    <tr>\n",
              "      <th>2006-09-29</th>\n",
              "      <td>4.372000</td>\n",
              "      <td>5.798726</td>\n",
              "      <td>20.360044</td>\n",
              "      <td>14.011000</td>\n",
              "      <td>4.007311</td>\n",
              "      <td>5.509683</td>\n",
              "      <td>2.524708</td>\n",
              "      <td>-1.606686</td>\n",
              "      <td>-4.446803</td>\n",
              "      <td>13.193711</td>\n",
              "      <td>12.062739</td>\n",
              "    </tr>\n",
              "    <tr>\n",
              "      <th>2006-10-31</th>\n",
              "      <td>24.040686</td>\n",
              "      <td>-5.798726</td>\n",
              "      <td>1.952058</td>\n",
              "      <td>-2.678511</td>\n",
              "      <td>-12.759395</td>\n",
              "      <td>6.954992</td>\n",
              "      <td>-1.884828</td>\n",
              "      <td>2.394922</td>\n",
              "      <td>5.320016</td>\n",
              "      <td>39.803505</td>\n",
              "      <td>-0.227015</td>\n",
              "    </tr>\n",
              "    <tr>\n",
              "      <th>2006-11-30</th>\n",
              "      <td>-13.268377</td>\n",
              "      <td>15.201621</td>\n",
              "      <td>2.232464</td>\n",
              "      <td>12.978065</td>\n",
              "      <td>-3.239524</td>\n",
              "      <td>11.778304</td>\n",
              "      <td>-6.567791</td>\n",
              "      <td>19.926229</td>\n",
              "      <td>21.272753</td>\n",
              "      <td>17.420440</td>\n",
              "      <td>8.928542</td>\n",
              "    </tr>\n",
              "    <tr>\n",
              "      <th>2006-12-29</th>\n",
              "      <td>-9.720986</td>\n",
              "      <td>-6.624939</td>\n",
              "      <td>2.982445</td>\n",
              "      <td>-1.773228</td>\n",
              "      <td>-4.311486</td>\n",
              "      <td>-1.517609</td>\n",
              "      <td>-4.341328</td>\n",
              "      <td>-25.181935</td>\n",
              "      <td>-5.741156</td>\n",
              "      <td>-17.745038</td>\n",
              "      <td>-5.564945</td>\n",
              "    </tr>\n",
              "    <tr>\n",
              "      <th>2007-01-31</th>\n",
              "      <td>-14.786239</td>\n",
              "      <td>9.156719</td>\n",
              "      <td>-12.479537</td>\n",
              "      <td>-7.865468</td>\n",
              "      <td>-7.757860</td>\n",
              "      <td>-9.117555</td>\n",
              "      <td>6.691693</td>\n",
              "      <td>-9.121601</td>\n",
              "      <td>-11.719457</td>\n",
              "      <td>-6.361464</td>\n",
              "      <td>-6.677028</td>\n",
              "    </tr>\n",
              "    <tr>\n",
              "      <th>...</th>\n",
              "      <td>...</td>\n",
              "      <td>...</td>\n",
              "      <td>...</td>\n",
              "      <td>...</td>\n",
              "      <td>...</td>\n",
              "      <td>...</td>\n",
              "      <td>...</td>\n",
              "      <td>...</td>\n",
              "      <td>...</td>\n",
              "      <td>...</td>\n",
              "      <td>...</td>\n",
              "    </tr>\n",
              "    <tr>\n",
              "      <th>2020-05-29</th>\n",
              "      <td>-9.827651</td>\n",
              "      <td>16.846452</td>\n",
              "      <td>-3.117738</td>\n",
              "      <td>1.468682</td>\n",
              "      <td>-14.258641</td>\n",
              "      <td>-2.941186</td>\n",
              "      <td>4.176492</td>\n",
              "      <td>0.000000</td>\n",
              "      <td>-1.415535</td>\n",
              "      <td>3.296292</td>\n",
              "      <td>-4.529794</td>\n",
              "    </tr>\n",
              "    <tr>\n",
              "      <th>2020-06-30</th>\n",
              "      <td>0.864266</td>\n",
              "      <td>-7.649603</td>\n",
              "      <td>-3.950516</td>\n",
              "      <td>0.324547</td>\n",
              "      <td>-1.531530</td>\n",
              "      <td>9.711545</td>\n",
              "      <td>-10.171014</td>\n",
              "      <td>0.000000</td>\n",
              "      <td>31.723799</td>\n",
              "      <td>2.527355</td>\n",
              "      <td>-10.656036</td>\n",
              "    </tr>\n",
              "    <tr>\n",
              "      <th>2020-07-31</th>\n",
              "      <td>-10.800751</td>\n",
              "      <td>9.569048</td>\n",
              "      <td>1.092167</td>\n",
              "      <td>1.761638</td>\n",
              "      <td>-3.728175</td>\n",
              "      <td>13.691224</td>\n",
              "      <td>-3.338979</td>\n",
              "      <td>0.000000</td>\n",
              "      <td>-4.557303</td>\n",
              "      <td>3.112409</td>\n",
              "      <td>15.869332</td>\n",
              "    </tr>\n",
              "    <tr>\n",
              "      <th>2020-08-31</th>\n",
              "      <td>-9.177773</td>\n",
              "      <td>-2.697659</td>\n",
              "      <td>4.600983</td>\n",
              "      <td>0.316495</td>\n",
              "      <td>11.031183</td>\n",
              "      <td>7.943673</td>\n",
              "      <td>-10.295171</td>\n",
              "      <td>0.000000</td>\n",
              "      <td>-10.440529</td>\n",
              "      <td>-1.298657</td>\n",
              "      <td>-4.619822</td>\n",
              "    </tr>\n",
              "    <tr>\n",
              "      <th>2020-09-30</th>\n",
              "      <td>-1.447609</td>\n",
              "      <td>3.077166</td>\n",
              "      <td>8.296657</td>\n",
              "      <td>3.422158</td>\n",
              "      <td>2.033312</td>\n",
              "      <td>-8.933105</td>\n",
              "      <td>8.148257</td>\n",
              "      <td>0.000000</td>\n",
              "      <td>-4.339020</td>\n",
              "      <td>6.023921</td>\n",
              "      <td>6.186324</td>\n",
              "    </tr>\n",
              "  </tbody>\n",
              "</table>\n",
              "<p>169 rows × 11 columns</p>\n",
              "</div>"
            ],
            "text/plain": [
              "             ABLE C&C   NI STEEL  ...  CHUNIL EXPRESS  BOHAE BREWERY\n",
              "Name                              ...                               \n",
              "2006-09-29   4.372000   5.798726  ...       13.193711      12.062739\n",
              "2006-10-31  24.040686  -5.798726  ...       39.803505      -0.227015\n",
              "2006-11-30 -13.268377  15.201621  ...       17.420440       8.928542\n",
              "2006-12-29  -9.720986  -6.624939  ...      -17.745038      -5.564945\n",
              "2007-01-31 -14.786239   9.156719  ...       -6.361464      -6.677028\n",
              "...               ...        ...  ...             ...            ...\n",
              "2020-05-29  -9.827651  16.846452  ...        3.296292      -4.529794\n",
              "2020-06-30   0.864266  -7.649603  ...        2.527355     -10.656036\n",
              "2020-07-31 -10.800751   9.569048  ...        3.112409      15.869332\n",
              "2020-08-31  -9.177773  -2.697659  ...       -1.298657      -4.619822\n",
              "2020-09-30  -1.447609   3.077166  ...        6.023921       6.186324\n",
              "\n",
              "[169 rows x 11 columns]"
            ]
          },
          "metadata": {},
          "execution_count": 176
        }
      ]
    },
    {
      "cell_type": "code",
      "metadata": {
        "colab": {
          "base_uri": "https://localhost:8080/"
        },
        "id": "SUBYUIzXl6tX",
        "outputId": "2a9db6ec-7e03-4936-9ffd-27cbd038090d"
      },
      "source": [
        "# 추정할 파라미터를 정의\n",
        "SAVG = []     # 이름만 지정된 변수\n",
        "SSD = []      # 표준편차\n",
        "SSK = []      # 왜도\n",
        "SKT = []      # 첨도\n",
        "\n",
        "for i in range(1,12):   \n",
        "    Y = (R.iloc[:,i])    # sdata의 두번째 열에서 6번쨰 열까지 다섯개의 주식, iloc는 수자로 행이나 열을 지정. 참고로 # loc는 행이나 열의 이름그대로(label)으로 지정. e.g., iloc[1] vs loc[A] \n",
        "    SAVG.append(Y.mean())\n",
        "    SSD.append(Y.std())\n",
        "    SSK.append(skew(Y))\n",
        "    SKT.append(kurtosis(Y))\n",
        "\n",
        "    print(R.iloc[:,i].name, \":   Average Excess Return:\", Y.mean(),\",   STD:\", Y.std(), \",   Skewness:\", skew(Y), \",   Kurtosis:\", kurtosis(Y))     # 결과물을 프린트함\n",
        "    "
      ],
      "id": "SUBYUIzXl6tX",
      "execution_count": null,
      "outputs": [
        {
          "output_type": "stream",
          "name": "stdout",
          "text": [
            "AK HOLDINGS :   Average Excess Return: 0.4347633038745198 ,   STD: 14.861654091992577 ,   Skewness: -0.18407126709456484 ,   Kurtosis: 1.25016879925502\n",
            "AMOREPACIFIC :   Average Excess Return: 0.8555203348532854 ,   STD: 10.027938508458417 ,   Skewness: -0.5570419026924047 ,   Kurtosis: 4.23273551001735\n",
            "AMOREPACIFIC GROUP :   Average Excess Return: 0.9598390699280802 ,   STD: 11.580700528820218 ,   Skewness: -0.3775900568655674 ,   Kurtosis: 2.544574861344217\n",
            "ANAM ELECTRONICS :   Average Excess Return: 1.0972069977570342 ,   STD: 18.326807455669467 ,   Skewness: 2.1250804218552704 ,   Kurtosis: 13.528618337667798\n",
            "APROGEN KIC :   Average Excess Return: -0.8848314558912455 ,   STD: 21.710453726550135 ,   Skewness: 1.8008924628985956 ,   Kurtosis: 17.984497636159922\n",
            "APROGEN PHARMACEUTICALS :   Average Excess Return: -1.3546648409085857 ,   STD: 21.666221059020074 ,   Skewness: 1.1591427671402454 ,   Kurtosis: 5.094648886915683\n",
            "ASIA HOLDINGS :   Average Excess Return: 0.3820433270815406 ,   STD: 9.528323152069538 ,   Skewness: -0.34459487890485463 ,   Kurtosis: 2.2839699095005095\n",
            "ASIA PAPER MNFG. :   Average Excess Return: 0.9008904160117772 ,   STD: 12.275957375948124 ,   Skewness: 0.10148031007200173 ,   Kurtosis: 2.516817297773507\n",
            "ASIANA AIRLINES :   Average Excess Return: -0.23514631552865345 ,   STD: 11.912958816442416 ,   Skewness: 1.3452945312480962 ,   Kurtosis: 4.4730523282140755\n",
            "AUK :   Average Excess Return: -0.020769534153763928 ,   STD: 12.896747968815896 ,   Skewness: 0.49916071658366895 ,   Kurtosis: 1.8366710551394272\n",
            "AUTOMOBILE & PCB :   Average Excess Return: -2.221881216460626 ,   STD: 16.989609667952948 ,   Skewness: 0.0718181329270514 ,   Kurtosis: 0.9973927143745978\n"
          ]
        }
      ]
    },
    {
      "cell_type": "code",
      "metadata": {
        "colab": {
          "base_uri": "https://localhost:8080/",
          "height": 408
        },
        "id": "HTh7ygTOmvNo",
        "outputId": "ead35bc3-e64d-4626-9bec-240ea9ef4a19"
      },
      "source": [
        "SAVG = pd.Series(SAVG)   # series나 DataFrame 형식의 데이터만 concatenate가능\n",
        "SSD = pd.Series(SSD)\n",
        "SSK = pd.Series(SSK)\n",
        "SKT = pd.Series(SKT)\n",
        "\n",
        "Inv_Cov = np.linalg.inv(R.iloc[:,1:12].cov())   # 공분산의 역행렬 (시그마역행렬)\n",
        "InWgts = Inv_Cov@SAVG                              # \n",
        "InWgts = pd.Series(InWgts/ InWgts.sum())\n",
        "\n",
        "R1 = pd.concat([SAVG, SSD, SSK, SKT, InWgts], axis=1)   # df 라는 matrix는 SAVG, SSD, SSK, SKT, InWgts 의 벡터를 순차적으로 오른편으로 덧붙여 작성. axis=0 이면 아래쪽으로 붙임\n",
        "R1.columns = ['SAVG', 'SSD', 'SSK', 'SKT', 'lnWgts']    # df matrix 의 열 이름 부여\n",
        "R1.index = R.columns[1:12]                           # df matrix의 행 이름은 각 주식의 회사 이름으로 부여\n",
        "\n",
        "print(\"주식별 초과평균수익률, STD, 왜도, 첨도, 그리고 투자비중\")     # 결과물을 프린트함\n",
        "R1\n"
      ],
      "id": "HTh7ygTOmvNo",
      "execution_count": null,
      "outputs": [
        {
          "output_type": "stream",
          "name": "stdout",
          "text": [
            "주식별 초과평균수익률, STD, 왜도, 첨도, 그리고 투자비중\n"
          ]
        },
        {
          "output_type": "execute_result",
          "data": {
            "text/html": [
              "<div>\n",
              "<style scoped>\n",
              "    .dataframe tbody tr th:only-of-type {\n",
              "        vertical-align: middle;\n",
              "    }\n",
              "\n",
              "    .dataframe tbody tr th {\n",
              "        vertical-align: top;\n",
              "    }\n",
              "\n",
              "    .dataframe thead th {\n",
              "        text-align: right;\n",
              "    }\n",
              "</style>\n",
              "<table border=\"1\" class=\"dataframe\">\n",
              "  <thead>\n",
              "    <tr style=\"text-align: right;\">\n",
              "      <th></th>\n",
              "      <th>SAVG</th>\n",
              "      <th>SSD</th>\n",
              "      <th>SSK</th>\n",
              "      <th>SKT</th>\n",
              "      <th>lnWgts</th>\n",
              "    </tr>\n",
              "  </thead>\n",
              "  <tbody>\n",
              "    <tr>\n",
              "      <th>AK HOLDINGS</th>\n",
              "      <td>0.434763</td>\n",
              "      <td>14.861654</td>\n",
              "      <td>-0.184071</td>\n",
              "      <td>1.250169</td>\n",
              "      <td>0.278055</td>\n",
              "    </tr>\n",
              "    <tr>\n",
              "      <th>AMOREPACIFIC</th>\n",
              "      <td>0.855520</td>\n",
              "      <td>10.027939</td>\n",
              "      <td>-0.557042</td>\n",
              "      <td>4.232736</td>\n",
              "      <td>1.516477</td>\n",
              "    </tr>\n",
              "    <tr>\n",
              "      <th>AMOREPACIFIC GROUP</th>\n",
              "      <td>0.959839</td>\n",
              "      <td>11.580701</td>\n",
              "      <td>-0.377590</td>\n",
              "      <td>2.544575</td>\n",
              "      <td>0.322380</td>\n",
              "    </tr>\n",
              "    <tr>\n",
              "      <th>ANAM ELECTRONICS</th>\n",
              "      <td>1.097207</td>\n",
              "      <td>18.326807</td>\n",
              "      <td>2.125080</td>\n",
              "      <td>13.528618</td>\n",
              "      <td>0.679085</td>\n",
              "    </tr>\n",
              "    <tr>\n",
              "      <th>APROGEN KIC</th>\n",
              "      <td>-0.884831</td>\n",
              "      <td>21.710454</td>\n",
              "      <td>1.800892</td>\n",
              "      <td>17.984498</td>\n",
              "      <td>-0.490269</td>\n",
              "    </tr>\n",
              "    <tr>\n",
              "      <th>APROGEN PHARMACEUTICALS</th>\n",
              "      <td>-1.354665</td>\n",
              "      <td>21.666221</td>\n",
              "      <td>1.159143</td>\n",
              "      <td>5.094649</td>\n",
              "      <td>-0.331426</td>\n",
              "    </tr>\n",
              "    <tr>\n",
              "      <th>ASIA HOLDINGS</th>\n",
              "      <td>0.382043</td>\n",
              "      <td>9.528323</td>\n",
              "      <td>-0.344595</td>\n",
              "      <td>2.283970</td>\n",
              "      <td>0.575666</td>\n",
              "    </tr>\n",
              "    <tr>\n",
              "      <th>ASIA PAPER MNFG.</th>\n",
              "      <td>0.900890</td>\n",
              "      <td>12.275957</td>\n",
              "      <td>0.101480</td>\n",
              "      <td>2.516817</td>\n",
              "      <td>0.650871</td>\n",
              "    </tr>\n",
              "    <tr>\n",
              "      <th>ASIANA AIRLINES</th>\n",
              "      <td>-0.235146</td>\n",
              "      <td>11.912959</td>\n",
              "      <td>1.345295</td>\n",
              "      <td>4.473052</td>\n",
              "      <td>-0.435338</td>\n",
              "    </tr>\n",
              "    <tr>\n",
              "      <th>AUK</th>\n",
              "      <td>-0.020770</td>\n",
              "      <td>12.896748</td>\n",
              "      <td>0.499161</td>\n",
              "      <td>1.836671</td>\n",
              "      <td>-0.270729</td>\n",
              "    </tr>\n",
              "    <tr>\n",
              "      <th>AUTOMOBILE &amp; PCB</th>\n",
              "      <td>-2.221881</td>\n",
              "      <td>16.989610</td>\n",
              "      <td>0.071818</td>\n",
              "      <td>0.997393</td>\n",
              "      <td>-1.494773</td>\n",
              "    </tr>\n",
              "  </tbody>\n",
              "</table>\n",
              "</div>"
            ],
            "text/plain": [
              "                             SAVG        SSD       SSK        SKT    lnWgts\n",
              "AK HOLDINGS              0.434763  14.861654 -0.184071   1.250169  0.278055\n",
              "AMOREPACIFIC             0.855520  10.027939 -0.557042   4.232736  1.516477\n",
              "AMOREPACIFIC GROUP       0.959839  11.580701 -0.377590   2.544575  0.322380\n",
              "ANAM ELECTRONICS         1.097207  18.326807  2.125080  13.528618  0.679085\n",
              "APROGEN KIC             -0.884831  21.710454  1.800892  17.984498 -0.490269\n",
              "APROGEN PHARMACEUTICALS -1.354665  21.666221  1.159143   5.094649 -0.331426\n",
              "ASIA HOLDINGS            0.382043   9.528323 -0.344595   2.283970  0.575666\n",
              "ASIA PAPER MNFG.         0.900890  12.275957  0.101480   2.516817  0.650871\n",
              "ASIANA AIRLINES         -0.235146  11.912959  1.345295   4.473052 -0.435338\n",
              "AUK                     -0.020770  12.896748  0.499161   1.836671 -0.270729\n",
              "AUTOMOBILE & PCB        -2.221881  16.989610  0.071818   0.997393 -1.494773"
            ]
          },
          "metadata": {},
          "execution_count": 178
        }
      ]
    },
    {
      "cell_type": "code",
      "metadata": {
        "colab": {
          "base_uri": "https://localhost:8080/"
        },
        "id": "83geVfJnnl9p",
        "outputId": "03435199-b02a-4b04-ff2b-79bc449df1eb"
      },
      "source": [
        "corr_R1 = R1.corr(method='pearson')     # 상관계수 pearson이 default, spearman은 서열변수에서 쓰긔\n",
        "print(\"The correlation Matrix is:\")\n",
        "print(corr_R1, \"\\n\")\n",
        "# 기대수익률 극대화 최적 포트폴리오"
      ],
      "id": "83geVfJnnl9p",
      "execution_count": null,
      "outputs": [
        {
          "output_type": "stream",
          "name": "stdout",
          "text": [
            "The correlation Matrix is:\n",
            "            SAVG       SSD       SSK       SKT    lnWgts\n",
            "SAVG    1.000000 -0.575695 -0.219745 -0.018268  0.877755\n",
            "SSD    -0.575695  1.000000  0.707272  0.629979 -0.501236\n",
            "SSK    -0.219745  0.707272  1.000000  0.789375 -0.305581\n",
            "SKT    -0.018268  0.629979  0.789375  1.000000  0.002883\n",
            "lnWgts  0.877755 -0.501236 -0.305581  0.002883  1.000000 \n",
            "\n"
          ]
        }
      ]
    }
  ]
}